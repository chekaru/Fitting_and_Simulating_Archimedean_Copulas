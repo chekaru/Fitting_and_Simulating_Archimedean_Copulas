{
 "cells": [
  {
   "cell_type": "markdown",
   "metadata": {},
   "source": [
    "# Fitting and Simulating Archimedean Gumbel, Clayton and Frank Copulas"
   ]
  },
  {
   "cell_type": "markdown",
   "metadata": {},
   "source": [
    "In this jupyter notebook, we implement algos to fit and simulate bivariate Archimedean copulas. \n",
    "\n",
    "To fit Archimedean copulas we will use the Kendall distribution function. \n",
    "\n",
    "To simulate Archimedean copulas we will invert the Kendall distribution function using numerical root finding. \n",
    "\n",
    "There is plenty of materials from where you can enjoy the mathematics of the Copula functions. Our intention is not to add more maths to such long and reach lists of books and research papers. Rather, we just want to implement in Python some of the many copula objects we personally found useful when fitting and simulating data to the Gumbel, Clayton and Frank copulas.\n",
    "\n",
    "The various copula objects we are using were collected from the following materials:\n",
    "\n",
    "Genest C, Rivest LP, 1993. Statistical inference procedures for bivariate archimedean copulas. Journal of the American Statistical Association, 88: 1034-1043.\n",
    "\n",
    "Genest C, MacKay J, 1986. The Joy of copulas: bivariate disributions with uniform marginals. Journal of the American Statistical Association, 88: 280-283.\n",
    "\n",
    "Frees EW, Valdez EA, 1998. Understanding relationships using copulas. North American Actuarial Journal, 2: 1-25.\n",
    "\n",
    "Cherubini U, Luciano E, 2001. Value-at-risk trade-off and capital allocation with copulas. Economic Notes, 30: 235–256.\n",
    "\n",
    "Cherubini U, Luciano E, Vecchiato W, 2004. Copula Methods in Finance, Wiley."
   ]
  },
  {
   "cell_type": "markdown",
   "metadata": {},
   "source": [
    "### Copula definition "
   ]
  },
  {
   "cell_type": "markdown",
   "metadata": {},
   "source": [
    "A copula is a function that links univariate marginals to their full multivariate distribution.\n",
    "\n",
    "For $m $ uniform RV's, $U_1$, $U_2$,..,$U_m$   , the joint distribution function, called copula function, $C$, is defined as:\n",
    ".\n",
    "\n",
    "$$C(u_1, u_2,..,u_m) = P(U_1<=u_1, U_2<=u_2,..,U_m<=u_m)$$\n",
    ".\n",
    "\n",
    "We can also use the copula function, $C$, to connect univariate marginal distribution functions, $F_1(x_1),F_1(x_2),..,F_m(x_m)$ to their joint distribution function, $F(x_1,x_2,..,x_m)$   \n",
    ".\n",
    "$$C(F_1(x_1),F_1(x_2),..,F_m(x_m)) = F(x_1,x_2,..,x_m)$$\n",
    "\n",
    ".\n",
    "\n",
    "Sklar (1959) also showed the converse, that is, any joint distribution function, $F$, can be seen as a copula function. He proved that if $F(x_1,x_2,..,x_m)$ is a joint multivariate distribution function with univariate marginal distribution functions, $F_1(x_1),F_1(x_2),..,F_m(x_m)$, then there exists a copula function $C(u_1, u_2,..,u_m)$, such that the following holds:\n",
    "\n",
    "$$F(x_1,x_2,..,x_m)=C(F_1(x_1),F_1(x_2),..,F_m(x_m))$$\n",
    "\n",
    "\n",
    "An important attribute of the copula function, is that it allows modelling dependencies independently from the marginal distributions. \n"
   ]
  },
  {
   "cell_type": "markdown",
   "metadata": {},
   "source": [
    "### Archimedean Copulas"
   ]
  },
  {
   "cell_type": "markdown",
   "metadata": {},
   "source": [
    "#### Definition "
   ]
  },
  {
   "cell_type": "markdown",
   "metadata": {},
   "source": [
    "As this note is about fitting Archimedean Copulas, we will exploit the following representation of an Archimedean Copula in terms of its generator:\n",
    "\n",
    "$$C(u_1, u_2,..,u_m) = \\varphi^{-1}[\\varphi(u_1)+\\varphi(u_2)+..+\\varphi(u_m)]$$\n",
    "\n",
    "where:\n",
    "\n",
    "- $\\varphi$ is the generator and \n",
    "- $\\varphi^{-1}$ is the inverse of the generator, \n",
    "\n",
    "satisfying the following conditions:\n",
    "- $\\varphi(1)=0$ \n",
    "- $\\varphi^{'}$$(t)$<0, for all $t$ in [0,1], meaning that $\\varphi(t)$ is a decreasing function and that \n",
    "- $\\varphi^{''}$$(t)$>0, for all $t$ in [0,1], meaning that $\\varphi(t)$ is a convex function.\n"
   ]
  },
  {
   "cell_type": "markdown",
   "metadata": {},
   "source": [
    "#### Kendall distribution function"
   ]
  },
  {
   "cell_type": "markdown",
   "metadata": {},
   "source": [
    "A nice tool to describe dependence is Kendall distribution function, $K(t)$. Given two RV's $U_1$ and $U_2$ with distribution, $C$, the copula, then the Kendall function is defined as \n",
    "\n",
    "$K(t)=P(C(U_1,U_2)<=t)$  Genest and Rivest (1993).\n",
    "\n",
    "We will see below how the Kendall function is constructed with the help of the copula generator function and how it will help find the \"best\" copula."
   ]
  },
  {
   "cell_type": "markdown",
   "metadata": {},
   "source": [
    "### Copula objects required"
   ]
  },
  {
   "cell_type": "markdown",
   "metadata": {},
   "source": [
    "Let's now be more specific about the generators of our three Archimedean copulas, and also write few more objects we need in this exercise. "
   ]
  },
  {
   "cell_type": "markdown",
   "metadata": {},
   "source": [
    "#### Kendall's $\\tau$ rank correlation coefficient, based on the copula generator $\\varphi$ and its derivative $\\varphi^{'}$"
   ]
  },
  {
   "cell_type": "markdown",
   "metadata": {},
   "source": [
    "$$\\tau = 1+4\\int_{0}^1 \\frac{\\varphi(t)}{\\varphi^{'}(t)}dt$$\n",
    "\n",
    "(in Genest and MacKay 1986)"
   ]
  },
  {
   "cell_type": "markdown",
   "metadata": {},
   "source": [
    "#### Gumbel Copula's objects "
   ]
  },
  {
   "cell_type": "markdown",
   "metadata": {},
   "source": [
    "Generator function:\n",
    "\n",
    "$\\varphi(t)=(-ln(t))^\\theta$ \n",
    "\n",
    "Derivative of the Generator:\n",
    "\n",
    "$\\varphi^{'}(t)=-\\frac{\\theta}{t}(-ln(t))^{\\theta-1}$ \n",
    "\n",
    "Inverse of the Generator function:\n",
    "\n",
    "$\\varphi^{-1}(t)=e^{-t^{\\frac{1}{\\theta}}}$ \n",
    "\n",
    "Parameter:\n",
    "\n",
    "$\\theta=\\frac{1}{1-\\tau}>=1$ \n",
    "\n",
    "Copula function is defined with the help of generator function:\n",
    "\n",
    "$C(u_1, u_2) = e^{-([(-ln(u_1)^\\theta)+ (-ln(u_2)^\\theta)])^{1/\\theta}}$\n",
    "\n",
    "Kendall distribution function is defined with the help of generator function:\n",
    "\n",
    "$K(t) = t - \\frac{\\varphi(t)}{\\varphi^{'}(t)} = t -t\\frac{ln(t)}{\\theta} $"
   ]
  },
  {
   "cell_type": "markdown",
   "metadata": {},
   "source": [
    "#### Clayton Copula's objects "
   ]
  },
  {
   "cell_type": "markdown",
   "metadata": {},
   "source": [
    "Generator function:\n",
    "\n",
    "$\\varphi(t)=t^{-\\theta}-1$ \n",
    "\n",
    "Derivative of the Generator:\n",
    "\n",
    "$\\varphi^{'}(t)=-\\theta t^{-\\theta-1}$ \n",
    "\n",
    "Inverse of the Generator function:\n",
    "\n",
    "$\\varphi^{-1}(t)=(1+t)^{-\\frac{1}{\\theta}}$\n",
    "\n",
    "Parameter:\n",
    "\n",
    "$\\theta= \\frac{2\\tau}{1-\\tau}>0$ \n",
    "\n",
    "Copula function is defined with the help of generator function:\n",
    "\n",
    "$C(u_1, u_2) = {(u_1^\\theta + u_2^\\theta - 1)^{-\\frac{1}{\\theta}}}$\n",
    "\n",
    "\n",
    "Kendall distribution function is defined with the help of generator function:\n",
    "\n",
    "$K(t) = t - \\frac{\\varphi(t)}{\\varphi^{'}(t)} = t -\\frac{t^{\\theta+1}-t}{\\theta} $"
   ]
  },
  {
   "cell_type": "markdown",
   "metadata": {},
   "source": [
    "#### Frank Copula's objects"
   ]
  },
  {
   "cell_type": "markdown",
   "metadata": {},
   "source": [
    "Generator function:\n",
    "\n",
    "$\\varphi(t)=-ln\\frac{e^{-t\\theta}-1}{e^{-\\theta}-1}$ \n",
    "\n",
    "Derivative of the Generator:\n",
    "\n",
    "$\\varphi^{'}(t)=\\frac{\\theta}{1-e^{t\\theta}}$ \n",
    "\n",
    "Inverse of the Generator function:\n",
    "\n",
    "$\\varphi^{-1}(t)={-\\frac{ln(e^{-t-\\theta}-e^{-\\theta}+1)}{\\theta}}$\n",
    "\n",
    "Parameter:\n",
    "\n",
    "$-\\inf<\\theta<\\inf$ \n",
    "\n",
    "Copula function is defined with the help of generator function:\n",
    "\n",
    "$C(u_1, u_2) = -\\frac{1}{\\theta}ln(1+\\frac{(e^{-\\theta u_1}-1)(e^{-\\theta u_2}-1)}{e^{-\\theta}-1})$\n",
    "\n",
    "\n",
    "Kendall distribution function is defined with the help of generator function:\n",
    "\n",
    "$K(t) = t - \\frac{\\varphi(t)}{\\varphi^{'}(t)} = t -\\frac{e^{\\theta t}-1}{\\theta} ln\\frac{(e^{-\\theta t}-1)}{(e^{-\\theta}-1)}$"
   ]
  },
  {
   "cell_type": "markdown",
   "metadata": {},
   "source": [
    "#### Example on how to link the inverse of the generator to the bivariate Independent Copula $C(u_1,u_2)$ for two uniform variables $U_1$ and $U_2$  "
   ]
  },
  {
   "cell_type": "markdown",
   "metadata": {},
   "source": [
    "Bivariate Archimedean Copula:\n",
    "\n",
    "$$C(u_1, u_2) = \\varphi^{-1}[\\varphi(u_1)+\\varphi(u_2)]$$\n",
    "\n",
    "Generator function:\n",
    "\n",
    "$\\varphi(t)$ = -$ln(t)$\n",
    "\n",
    "Inverse of the Generator:\n",
    "\n",
    "$\\varphi^{-1}(\\varphi(u_1)+\\varphi(u_2))$ = $exp(-(ln(u_1)+ln(u_2)))$\n",
    "\n",
    "\n",
    "and we arrive at the independent Copula function as the product below \n",
    "\n",
    "Copula function\n",
    "\n",
    "$C(u_1,u_2) = u_1u_2$"
   ]
  },
  {
   "cell_type": "markdown",
   "metadata": {},
   "source": [
    "### Libraries and Data"
   ]
  },
  {
   "cell_type": "code",
   "execution_count": 1,
   "metadata": {},
   "outputs": [],
   "source": [
    "import numpy as np\n",
    "import math\n",
    "import scipy.integrate\n",
    "import pandas as pd\n",
    "\n",
    "from scipy.special  import comb\n",
    "from scipy.stats    import norm\n",
    "from scipy.optimize import root\n",
    "from scipy.optimize import newton\n",
    "\n",
    "import numpy.random as npr\n",
    "import scipy.stats as scs\n",
    "\n",
    "import matplotlib as mpl\n",
    "import matplotlib.pyplot as plt\n",
    "%matplotlib inline"
   ]
  },
  {
   "cell_type": "markdown",
   "metadata": {},
   "source": [
    "Our data contains simulated dependent equity returns. The way we generated our data is explained in the section Simulating Archimedean Copulas: we used a normal distribution ~$N(0,1)$ to generate the returns, the marginals, and we joint them with a Gumbel copula."
   ]
  },
  {
   "cell_type": "code",
   "execution_count": 2,
   "metadata": {},
   "outputs": [
    {
     "name": "stdout",
     "output_type": "stream",
     "text": [
      "          X         Y\n",
      "0 -0.555892 -0.247987\n",
      "1 -1.203095 -0.779378\n",
      "            X         Y\n",
      "998 -1.206702 -0.980869\n",
      "999  1.066642  1.255402\n"
     ]
    }
   ],
   "source": [
    "# Data contains Simulated Equity Returns \n",
    "Returns = pd.read_csv ('Returns.csv', index_col=False)\n",
    "print (Returns.head(2))\n",
    "print (Returns.tail(2))\n",
    "size = len(Returns)"
   ]
  },
  {
   "cell_type": "markdown",
   "metadata": {},
   "source": [
    "### Analysing the Marginals"
   ]
  },
  {
   "cell_type": "code",
   "execution_count": 3,
   "metadata": {},
   "outputs": [
    {
     "data": {
      "image/png": "[encoded data removed]",
      "text/plain": [
       "<Figure size 864x720 with 2 Axes>"
      ]
     },
     "metadata": {},
     "output_type": "display_data"
    }
   ],
   "source": [
    "symbols = ['X', 'Y']\n",
    "\n",
    "plt.figure(figsize=(12, 10)) \n",
    "\n",
    "val = 0 \n",
    "plt.subplot(211)\n",
    "Returns[symbols[val]].hist(bins=70, density=True, label='Frequency')\n",
    "plt.grid(True)\n",
    "plt.xlabel('Return ' + symbols[val])\n",
    "plt.ylabel('Freq ' + symbols[val])\n",
    "x = np.linspace(plt.axis()[0], plt.axis()[1])\n",
    "plt.plot(x, scs.norm.pdf(x, loc=np.mean(Returns[symbols[val]]), scale=np.std(Returns[symbols[val]])),'r', lw=2.0, label='normal density')\n",
    "plt.legend()\n",
    "\n",
    "val = 1\n",
    "plt.subplot(212)\n",
    "Returns[symbols[val]].hist(bins=70, density=True, label='Frequency')\n",
    "plt.grid(True)\n",
    "plt.xlabel('Return ' + symbols[val])\n",
    "plt.ylabel('Freq ' + symbols[val])\n",
    "x = np.linspace(plt.axis()[0], plt.axis()[1])\n",
    "plt.plot(x, scs.norm.pdf(x, loc=np.mean(Returns[symbols[val]]), scale=np.std(Returns[symbols[val]])),'r', lw=2.0, label='normal density')\n",
    "plt.legend()\n",
    "plt.show()"
   ]
  },
  {
   "cell_type": "markdown",
   "metadata": {},
   "source": [
    "The marginals look very much normally distributed!"
   ]
  },
  {
   "cell_type": "markdown",
   "metadata": {},
   "source": [
    "### Creating uniform variates"
   ]
  },
  {
   "cell_type": "markdown",
   "metadata": {},
   "source": [
    "From the copula definition, we understand we need to work with uniform variates.\n",
    "To do so we apply a \"non linear\" transformation to the normal distributed equity returns. Obviously, if the marginals were not normally distributed we would have applied a different transformation.\n",
    "\n",
    "$\\Phi(x) = u$"
   ]
  },
  {
   "cell_type": "code",
   "execution_count": 4,
   "metadata": {},
   "outputs": [
    {
     "name": "stdout",
     "output_type": "stream",
     "text": [
      "0.6534420175848601\n",
      "0.19775679413189762\n"
     ]
    }
   ],
   "source": [
    "# As an example, in python this is achieved as\n",
    "print(norm.cdf(0.394630007))\n",
    "print(norm.cdf(-0.849660998))"
   ]
  },
  {
   "cell_type": "code",
   "execution_count": 5,
   "metadata": {},
   "outputs": [
    {
     "name": "stdout",
     "output_type": "stream",
     "text": [
      "0.39463000812486765\n"
     ]
    }
   ],
   "source": [
    "# With the inverse we recover the same input above\n",
    "print(norm.ppf(0.653442018))"
   ]
  },
  {
   "cell_type": "code",
   "execution_count": 6,
   "metadata": {},
   "outputs": [
    {
     "name": "stdout",
     "output_type": "stream",
     "text": [
      "          X         Y\n",
      "0  0.289142  0.402072\n",
      "1  0.114470  0.217879\n",
      "2  0.190621  0.736661\n",
      "            X         Y\n",
      "998  0.113773  0.163329\n",
      "999  0.856933  0.895334\n"
     ]
    }
   ],
   "source": [
    "ReturnsData = pd.DataFrame(norm.cdf(Returns))\n",
    "ReturnsData.columns =['X', 'Y']\n",
    "print (ReturnsData.head(3))\n",
    "print (ReturnsData.tail(2))\n",
    "size = len(ReturnsData)"
   ]
  },
  {
   "cell_type": "markdown",
   "metadata": {},
   "source": [
    "### Analysing the dependence structure"
   ]
  },
  {
   "cell_type": "markdown",
   "metadata": {},
   "source": [
    "The main idea is that the dependence structure should not be affected by the marginal distributions. This is the essence of the copula function.\n",
    "\n",
    "When investigating the dependence structure between two RV's, we need a measure which is \"invariant under strictly increasing transformations of the underlying RV's\".\n",
    "\n",
    "The use of the Pearson's linear correlation coefficient is well widespread in all area of research. However, we have to be aware that the linear correlation coefficient is certainly NOT invariant. This is because it depends not only on the copula, but also on the marginals."
   ]
  },
  {
   "cell_type": "markdown",
   "metadata": {},
   "source": [
    "Previously, we applied a non-linear transformation to our initial data. \n",
    "\n",
    "Let's check the effect of such non-linear transformation on the linear correlation."
   ]
  },
  {
   "cell_type": "code",
   "execution_count": 7,
   "metadata": {},
   "outputs": [
    {
     "name": "stdout",
     "output_type": "stream",
     "text": [
      "0.679110280735313\n",
      "0.6594017796464726\n"
     ]
    }
   ],
   "source": [
    "print (np.corrcoef(Returns.X, Returns.Y)[1,0])\n",
    "print (np.corrcoef(ReturnsData.X, ReturnsData.Y)[1,0])"
   ]
  },
  {
   "cell_type": "markdown",
   "metadata": {},
   "source": [
    "As anticipated, the Pearson's linear correlation coefficients are different!"
   ]
  },
  {
   "cell_type": "markdown",
   "metadata": {},
   "source": [
    "#### Kendall's  $\\tau$ rank correlation coefficient "
   ]
  },
  {
   "cell_type": "markdown",
   "metadata": {},
   "source": [
    "We need an \"invariant\" coefficient to measure the dependence structure. Kendall's $\\tau$ rank correlation coefficient is known to be invariant!"
   ]
  },
  {
   "cell_type": "markdown",
   "metadata": {},
   "source": [
    "The non parameteric estimation of the Kendall's $\\tau$ rank correlation coefficient is below. \n",
    "\n",
    "We wil also implement and use later the Kendall's $\\tau$ rank correlation coefficient based on the generator of the copula function."
   ]
  },
  {
   "cell_type": "markdown",
   "metadata": {},
   "source": [
    "Non parametric Kendall's $\\tau$ rank correlation coefficient"
   ]
  },
  {
   "cell_type": "code",
   "execution_count": 8,
   "metadata": {},
   "outputs": [],
   "source": [
    "def KendallCorrelationNonParametric(X, Y):\n",
    "    #Estimate Kendall's correlation coefficient using nonparametric estimator\n",
    "    n = len(X)\n",
    "    s = 0\n",
    "    for i in range(n):\n",
    "        for j in range(i,n):\n",
    "            if j > i:\n",
    "                a = (X[i] - X[j]) * (Y[i] - Y[j])\n",
    "                s +=np.sign(a)            \n",
    "    return comb(n, 2) ** (-1) * s"
   ]
  },
  {
   "cell_type": "markdown",
   "metadata": {},
   "source": [
    "Let's use the non parametric Kendall's estimator on the same data. We will check that the Kendall's correlation coefficient based on a Copula returns the same value below, later in this notebook."
   ]
  },
  {
   "cell_type": "code",
   "execution_count": 9,
   "metadata": {},
   "outputs": [
    {
     "name": "stdout",
     "output_type": "stream",
     "text": [
      "0.4772092092092092\n",
      "0.4772092092092092\n"
     ]
    }
   ],
   "source": [
    "tau_data =  (KendallCorrelationNonParametric(ReturnsData.X, ReturnsData.Y))\n",
    "print (tau_data)\n",
    "print (KendallCorrelationNonParametric(Returns.X, Returns.Y))"
   ]
  },
  {
   "cell_type": "markdown",
   "metadata": {},
   "source": [
    "As it was stated above, Kendall's $\\tau$ rank correlation coefficient is invariant after applying a non linear transformation to the data"
   ]
  },
  {
   "cell_type": "markdown",
   "metadata": {},
   "source": [
    "### Non parametric estimate of the Kendall distribution function"
   ]
  },
  {
   "cell_type": "markdown",
   "metadata": {},
   "source": [
    "We now need a non parametric estimate of the Kendall-Copula function based on the data available. This will be the function that we want to fit with the three Archimedean Copulas we introduced earlier."
   ]
  },
  {
   "cell_type": "code",
   "execution_count": 10,
   "metadata": {},
   "outputs": [],
   "source": [
    "def Kendall_NonParametric(X, Y, pos):\n",
    "    # The actual Copula based on data\n",
    "    pos = int(pos)    \n",
    "    n = len(X)\n",
    "    Ts = 0\n",
    "    for j in range(n):\n",
    "        if (X[j] < X[pos]) & (Y[j] < Y[pos]):\n",
    "            Ts += 1        \n",
    "    return  Ts / (n - 1)"
   ]
  },
  {
   "cell_type": "code",
   "execution_count": 11,
   "metadata": {},
   "outputs": [
    {
     "name": "stdout",
     "output_type": "stream",
     "text": [
      "0.2072072072072072\n",
      "0.06706706706706707\n",
      "0.1971971971971972\n",
      "0.33433433433433435\n",
      "0.5595595595595596\n",
      "0.5115115115115115\n"
     ]
    }
   ],
   "source": [
    "#let's test what it does on few data point\n",
    "ff = [0, 1, 2, 5, 10, 20]\n",
    "for i in ff:\n",
    "    print(Kendall_NonParametric(ReturnsData.X, ReturnsData.Y,i))"
   ]
  },
  {
   "cell_type": "code",
   "execution_count": 12,
   "metadata": {},
   "outputs": [],
   "source": [
    "Margins = []\n",
    "for i in range(1000):\n",
    "    Margins.append(Kendall_NonParametric(ReturnsData.X, ReturnsData.Y,i))"
   ]
  },
  {
   "cell_type": "code",
   "execution_count": 13,
   "metadata": {},
   "outputs": [],
   "source": [
    "# Create the dataframe for the Kendall function, called MarginsDF\n",
    "MarginsDF = pd.DataFrame(Margins)\n",
    "MarginsDF.columns =['K']\n",
    "MarginsDF.head()\n",
    "del(Margins)"
   ]
  },
  {
   "cell_type": "code",
   "execution_count": 14,
   "metadata": {},
   "outputs": [],
   "source": [
    "# Now we prepare the Reporting Table\n",
    "# 1 - the Distribution Points, called t\n",
    "dt     = 0.00001\n",
    "t      = [dt]\n",
    "delta  = 0.05\n",
    "for i in range(20):\n",
    "    tt = delta + t[-1]\n",
    "    t.append(min(1,tt))\n",
    "\n",
    "Frequency = pd.DataFrame(t)\n",
    "Frequency.columns =['t']\n",
    "#Frequency"
   ]
  },
  {
   "cell_type": "code",
   "execution_count": 15,
   "metadata": {},
   "outputs": [],
   "source": [
    "# 2 - the Cumulative points\n",
    "Cumulative = []\n",
    "j = 0\n",
    "for i in range(21):\n",
    "    value = Frequency['t'].loc[i]\n",
    "    Cumulative.append(MarginsDF.loc[MarginsDF['K'] <= value].count(axis=0)[0])\n",
    "del(value)"
   ]
  },
  {
   "cell_type": "code",
   "execution_count": 16,
   "metadata": {},
   "outputs": [],
   "source": [
    "Frequency['KCumulative'] = Cumulative\n",
    "del(Cumulative)"
   ]
  },
  {
   "cell_type": "code",
   "execution_count": 17,
   "metadata": {},
   "outputs": [
    {
     "data": {
      "text/plain": [
       "K    2\n",
       "dtype: int64"
      ]
     },
     "execution_count": 17,
     "metadata": {},
     "output_type": "execute_result"
    }
   ],
   "source": [
    "MarginsDF.loc[MarginsDF['K'] <=0.00001].count(axis=0)"
   ]
  },
  {
   "cell_type": "code",
   "execution_count": 18,
   "metadata": {},
   "outputs": [],
   "source": [
    "# 3 - the and the Density and the Sample Points\n",
    "Array    = Frequency['KCumulative'].diff()\n",
    "Array[0] = Frequency['KCumulative'].loc[0]\n",
    "Frequency['KDensity'] = Array\n",
    "Denominator =  Frequency['KCumulative'].loc[20]\n",
    "Frequency['KSample'] = Frequency['KCumulative']/Denominator\n",
    "del(Denominator)\n",
    "del(Array)"
   ]
  },
  {
   "cell_type": "code",
   "execution_count": 19,
   "metadata": {},
   "outputs": [
    {
     "data": {
      "text/html": [
       "<div>\n",
       "<style scoped>\n",
       "    .dataframe tbody tr th:only-of-type {\n",
       "        vertical-align: middle;\n",
       "    }\n",
       "\n",
       "    .dataframe tbody tr th {\n",
       "        vertical-align: top;\n",
       "    }\n",
       "\n",
       "    .dataframe thead th {\n",
       "        text-align: right;\n",
       "    }\n",
       "</style>\n",
       "<table border=\"1\" class=\"dataframe\">\n",
       "  <thead>\n",
       "    <tr style=\"text-align: right;\">\n",
       "      <th></th>\n",
       "      <th>t</th>\n",
       "      <th>KCumulative</th>\n",
       "      <th>KDensity</th>\n",
       "      <th>KSample</th>\n",
       "    </tr>\n",
       "  </thead>\n",
       "  <tbody>\n",
       "    <tr>\n",
       "      <th>0</th>\n",
       "      <td>0.00001</td>\n",
       "      <td>2</td>\n",
       "      <td>2.0</td>\n",
       "      <td>0.002</td>\n",
       "    </tr>\n",
       "    <tr>\n",
       "      <th>1</th>\n",
       "      <td>0.05001</td>\n",
       "      <td>123</td>\n",
       "      <td>121.0</td>\n",
       "      <td>0.123</td>\n",
       "    </tr>\n",
       "    <tr>\n",
       "      <th>2</th>\n",
       "      <td>0.10001</td>\n",
       "      <td>216</td>\n",
       "      <td>93.0</td>\n",
       "      <td>0.216</td>\n",
       "    </tr>\n",
       "    <tr>\n",
       "      <th>3</th>\n",
       "      <td>0.15001</td>\n",
       "      <td>293</td>\n",
       "      <td>77.0</td>\n",
       "      <td>0.293</td>\n",
       "    </tr>\n",
       "    <tr>\n",
       "      <th>4</th>\n",
       "      <td>0.20001</td>\n",
       "      <td>358</td>\n",
       "      <td>65.0</td>\n",
       "      <td>0.358</td>\n",
       "    </tr>\n",
       "    <tr>\n",
       "      <th>5</th>\n",
       "      <td>0.25001</td>\n",
       "      <td>418</td>\n",
       "      <td>60.0</td>\n",
       "      <td>0.418</td>\n",
       "    </tr>\n",
       "    <tr>\n",
       "      <th>6</th>\n",
       "      <td>0.30001</td>\n",
       "      <td>475</td>\n",
       "      <td>57.0</td>\n",
       "      <td>0.475</td>\n",
       "    </tr>\n",
       "    <tr>\n",
       "      <th>7</th>\n",
       "      <td>0.35001</td>\n",
       "      <td>531</td>\n",
       "      <td>56.0</td>\n",
       "      <td>0.531</td>\n",
       "    </tr>\n",
       "    <tr>\n",
       "      <th>8</th>\n",
       "      <td>0.40001</td>\n",
       "      <td>586</td>\n",
       "      <td>55.0</td>\n",
       "      <td>0.586</td>\n",
       "    </tr>\n",
       "    <tr>\n",
       "      <th>9</th>\n",
       "      <td>0.45001</td>\n",
       "      <td>635</td>\n",
       "      <td>49.0</td>\n",
       "      <td>0.635</td>\n",
       "    </tr>\n",
       "    <tr>\n",
       "      <th>10</th>\n",
       "      <td>0.50001</td>\n",
       "      <td>681</td>\n",
       "      <td>46.0</td>\n",
       "      <td>0.681</td>\n",
       "    </tr>\n",
       "    <tr>\n",
       "      <th>11</th>\n",
       "      <td>0.55001</td>\n",
       "      <td>737</td>\n",
       "      <td>56.0</td>\n",
       "      <td>0.737</td>\n",
       "    </tr>\n",
       "    <tr>\n",
       "      <th>12</th>\n",
       "      <td>0.60001</td>\n",
       "      <td>767</td>\n",
       "      <td>30.0</td>\n",
       "      <td>0.767</td>\n",
       "    </tr>\n",
       "    <tr>\n",
       "      <th>13</th>\n",
       "      <td>0.65001</td>\n",
       "      <td>807</td>\n",
       "      <td>40.0</td>\n",
       "      <td>0.807</td>\n",
       "    </tr>\n",
       "    <tr>\n",
       "      <th>14</th>\n",
       "      <td>0.70001</td>\n",
       "      <td>846</td>\n",
       "      <td>39.0</td>\n",
       "      <td>0.846</td>\n",
       "    </tr>\n",
       "    <tr>\n",
       "      <th>15</th>\n",
       "      <td>0.75001</td>\n",
       "      <td>875</td>\n",
       "      <td>29.0</td>\n",
       "      <td>0.875</td>\n",
       "    </tr>\n",
       "    <tr>\n",
       "      <th>16</th>\n",
       "      <td>0.80001</td>\n",
       "      <td>897</td>\n",
       "      <td>22.0</td>\n",
       "      <td>0.897</td>\n",
       "    </tr>\n",
       "    <tr>\n",
       "      <th>17</th>\n",
       "      <td>0.85001</td>\n",
       "      <td>921</td>\n",
       "      <td>24.0</td>\n",
       "      <td>0.921</td>\n",
       "    </tr>\n",
       "    <tr>\n",
       "      <th>18</th>\n",
       "      <td>0.90001</td>\n",
       "      <td>953</td>\n",
       "      <td>32.0</td>\n",
       "      <td>0.953</td>\n",
       "    </tr>\n",
       "    <tr>\n",
       "      <th>19</th>\n",
       "      <td>0.95001</td>\n",
       "      <td>977</td>\n",
       "      <td>24.0</td>\n",
       "      <td>0.977</td>\n",
       "    </tr>\n",
       "    <tr>\n",
       "      <th>20</th>\n",
       "      <td>1.00000</td>\n",
       "      <td>1000</td>\n",
       "      <td>23.0</td>\n",
       "      <td>1.000</td>\n",
       "    </tr>\n",
       "  </tbody>\n",
       "</table>\n",
       "</div>"
      ],
      "text/plain": [
       "          t  KCumulative  KDensity  KSample\n",
       "0   0.00001            2       2.0    0.002\n",
       "1   0.05001          123     121.0    0.123\n",
       "2   0.10001          216      93.0    0.216\n",
       "3   0.15001          293      77.0    0.293\n",
       "4   0.20001          358      65.0    0.358\n",
       "5   0.25001          418      60.0    0.418\n",
       "6   0.30001          475      57.0    0.475\n",
       "7   0.35001          531      56.0    0.531\n",
       "8   0.40001          586      55.0    0.586\n",
       "9   0.45001          635      49.0    0.635\n",
       "10  0.50001          681      46.0    0.681\n",
       "11  0.55001          737      56.0    0.737\n",
       "12  0.60001          767      30.0    0.767\n",
       "13  0.65001          807      40.0    0.807\n",
       "14  0.70001          846      39.0    0.846\n",
       "15  0.75001          875      29.0    0.875\n",
       "16  0.80001          897      22.0    0.897\n",
       "17  0.85001          921      24.0    0.921\n",
       "18  0.90001          953      32.0    0.953\n",
       "19  0.95001          977      24.0    0.977\n",
       "20  1.00000         1000      23.0    1.000"
      ]
     },
     "execution_count": 19,
     "metadata": {},
     "output_type": "execute_result"
    }
   ],
   "source": [
    "Frequency"
   ]
  },
  {
   "cell_type": "markdown",
   "metadata": {},
   "source": [
    "### Which Copula describes our data?"
   ]
  },
  {
   "cell_type": "markdown",
   "metadata": {},
   "source": [
    "After building our data set, we are now ready to write our three Archimedean Copulas, and then use them to estimate and select the best one!  "
   ]
  },
  {
   "cell_type": "markdown",
   "metadata": {},
   "source": [
    "#### Clayton, Gumbel and Frank Copulae "
   ]
  },
  {
   "cell_type": "code",
   "execution_count": 20,
   "metadata": {},
   "outputs": [],
   "source": [
    "# Copula Class\n",
    "class Copula(object):\n",
    "    def __init__(self, tau):\n",
    "        self.tau   = tau\n",
    "        self.theta = self.f_theta(self.tau)\n",
    "    \n",
    "    def LoadData(self, X, Y):\n",
    "        self.X     = X\n",
    "        self.Y     = Y\n",
    "    \n",
    "    def CopulaFunction(self, u, v):\n",
    "        x = self.Generator(u)\n",
    "        y = self.Generator(v)  \n",
    "        return self.GeneratorInverse(x+y)\n",
    "    \n",
    "    def KendallDistribution(self, t):\n",
    "        pass\n",
    "\n",
    "    def derivativeKendallDistribution(self, t):\n",
    "        pass\n",
    "\n",
    "    def Generator(self, t):\n",
    "        pass\n",
    "\n",
    "    def GeneratorInverse(self, t):\n",
    "        pass\n",
    "\n",
    "    def derivativeGenerator(self, t):\n",
    "        pass\n",
    "\n",
    "    def Integral_tau(self):    \n",
    "        def f(t): \n",
    "            return self.Generator(t)/self.derivativeGenerator(t) \n",
    "        Integrale = scipy.integrate.quad(f, 0, 1)[0]      \n",
    "        return 1 + 4*Integrale\n",
    "\n",
    "    def f_tau(self, theta):\n",
    "        pass\n",
    "    \n",
    "    def f_theta(self, tau):\n",
    "        pass\n",
    "\n",
    "# Gumbel Copula\n",
    "class Gumbel(Copula):    \n",
    "    def __init__(self, tau):\n",
    "        Copula.__init__(self, tau)\n",
    "        \n",
    "    def KendallDistribution(self, t):\n",
    "        return t - (t*np.log(t)/self.theta)\n",
    "\n",
    "    def derivativeKendallDistribution(self, t):\n",
    "        return 1 -np.log(t)/self.theta - 1/ self.theta\n",
    "\n",
    "    def Generator(self, t):\n",
    "        return (-np.log(t))**self.theta\n",
    "\n",
    "    def GeneratorInverse(self, t):\n",
    "        return np.exp(-t**(1/self.theta))\n",
    "\n",
    "    def derivativeGenerator(self, t):\n",
    "        return -1/t*self.theta*(-np.log(t))**(self.theta-1)\n",
    "    \n",
    "    def f_tau(self, theta):\n",
    "        return 1 - 1/theta\n",
    "    \n",
    "    def f_theta(self, tau):\n",
    "        return 1/(1-tau)\n",
    "        \n",
    "# Clayton Copula\n",
    "class Clayton(Copula):    \n",
    "    def __init__(self, tau):\n",
    "        Copula.__init__(self, tau)\n",
    "    \n",
    "    def KendallDistribution(self, t):\n",
    "        return t - (t**(self.theta + 1) - t)/self.theta\n",
    "\n",
    "    def derivativeKendallDistribution(self, t):\n",
    "        return 1 + 1/self.theta - 1/self.theta*(t**self.theta *(self.theta + 1))\n",
    "\n",
    "    def Generator(self, t):\n",
    "        return (t**(-self.theta)-1)\n",
    "\n",
    "    def GeneratorInverse(self, t):\n",
    "        return (1+t)**(-1/self.theta)\n",
    "\n",
    "    def derivativeGenerator(self, t):\n",
    "        return (-self.theta)*(t)**(-self.theta-1)\n",
    "\n",
    "    def f_tau(self, theta):\n",
    "        return theta/(theta + 2)\n",
    "    \n",
    "    def f_theta(self, tau):\n",
    "        return 2*tau / (1-tau)\n",
    "\n",
    "# Frank Copula\n",
    "class Frank(Copula):    \n",
    "    def __init__(self, tau):\n",
    "        Copula.__init__(self,tau)    \n",
    "    \n",
    "    def KendallDistribution(self, t):\n",
    "        num = (np.exp(-self.theta*t) -1)\n",
    "        den = (np.exp(-self.theta)   -1)\n",
    "        return t - (np.exp(self.theta*t)-1)/self.theta * np.log(num/den)\n",
    "\n",
    "    def derivativeKendallDistribution(self, t):\n",
    "        return -np.exp(self.theta*t)*(np.log((np.exp(-self.theta*t)-1)/(np.exp(-self.theta)-1)) + self.theta*(1-t))\n",
    "    \n",
    "    def Generator(self, t):\n",
    "        num = np.exp(-self.theta*t) - 1\n",
    "        den = np.exp(-self.theta)   - 1\n",
    "        return -np.log(num/den)\n",
    "\n",
    "    def GeneratorInverse(self, t):\n",
    "        return -(1/self.theta)*np.log(np.exp(-self.theta-t) - np.exp(-t)  + 1)\n",
    "    \n",
    "    def derivativeGenerator(self, t):\n",
    "        return self.theta / (1-np.exp(self.theta*t))\n",
    "    \n",
    "    def f_tau(self, theta):\n",
    "        def f(t):\n",
    "            return t/(np.exp(t)-1)   \n",
    "        Integrale = scipy.integrate.quad(f, 0, theta)[0]      \n",
    "        Dtheta = 1/theta*Integrale    \n",
    "        return 1 - 4*(1-Dtheta)/theta\n",
    "\n",
    "    def f_theta(self,tau):\n",
    "        def f(x):\n",
    "            return self.f_tau(x) - tau\n",
    "        sol = root(f, 0.5) \n",
    "        return sol.x[0]"
   ]
  },
  {
   "cell_type": "markdown",
   "metadata": {},
   "source": [
    "#### Instance of a Class Frank "
   ]
  },
  {
   "cell_type": "code",
   "execution_count": 21,
   "metadata": {},
   "outputs": [
    {
     "data": {
      "text/plain": [
       "5.336713727737315"
      ]
     },
     "execution_count": 21,
     "metadata": {},
     "output_type": "execute_result"
    }
   ],
   "source": [
    "frank = Frank(tau_data)\n",
    "frank.LoadData(ReturnsData.X, ReturnsData.Y)\n",
    "frank.theta"
   ]
  },
  {
   "cell_type": "code",
   "execution_count": 22,
   "metadata": {},
   "outputs": [
    {
     "data": {
      "text/plain": [
       "5.336713727737315"
      ]
     },
     "execution_count": 22,
     "metadata": {},
     "output_type": "execute_result"
    }
   ],
   "source": [
    "# The theta parameter\n",
    "frank.f_theta(tau_data)"
   ]
  },
  {
   "cell_type": "code",
   "execution_count": 23,
   "metadata": {},
   "outputs": [
    {
     "name": "stdout",
     "output_type": "stream",
     "text": [
      "0.9452146615767861\n"
     ]
    },
    {
     "data": {
      "text/plain": [
       "0.09161893682113201"
      ]
     },
     "execution_count": 23,
     "metadata": {},
     "output_type": "execute_result"
    }
   ],
   "source": [
    "# A copula value, given u and v\n",
    "frank.CopulaFunction(.1,.5)"
   ]
  },
  {
   "cell_type": "markdown",
   "metadata": {},
   "source": [
    "#### Instance of a Class Gumbel "
   ]
  },
  {
   "cell_type": "code",
   "execution_count": 24,
   "metadata": {},
   "outputs": [
    {
     "name": "stdout",
     "output_type": "stream",
     "text": [
      "1.9128110472018196\n"
     ]
    }
   ],
   "source": [
    "# Instance of a Class Gumbel\n",
    "gumbel = Gumbel(tau_data)\n",
    "gumbel.LoadData(ReturnsData.X, ReturnsData.Y)\n",
    "# The theta parameter\n",
    "print(gumbel.theta)"
   ]
  },
  {
   "cell_type": "code",
   "execution_count": 25,
   "metadata": {},
   "outputs": [
    {
     "name": "stdout",
     "output_type": "stream",
     "text": [
      "5.42609117058008\n"
     ]
    },
    {
     "data": {
      "text/plain": [
       "0.08883853655797866"
      ]
     },
     "execution_count": 25,
     "metadata": {},
     "output_type": "execute_result"
    }
   ],
   "source": [
    "# A copula value, given u and v\n",
    "gumbel.CopulaFunction(.1,.5)"
   ]
  },
  {
   "cell_type": "markdown",
   "metadata": {},
   "source": [
    "#### Instance of a Class Clayton "
   ]
  },
  {
   "cell_type": "code",
   "execution_count": 26,
   "metadata": {},
   "outputs": [
    {
     "name": "stdout",
     "output_type": "stream",
     "text": [
      "1.8256220944036392\n"
     ]
    }
   ],
   "source": [
    "# Instance of a Class Cayton\n",
    "clayton = Clayton(tau_data)\n",
    "clayton.LoadData(ReturnsData.X, ReturnsData.Y)\n",
    "# The theta parameter\n",
    "print(clayton.theta)"
   ]
  },
  {
   "cell_type": "code",
   "execution_count": 27,
   "metadata": {},
   "outputs": [
    {
     "name": "stdout",
     "output_type": "stream",
     "text": [
      "68.47479381833692\n"
     ]
    },
    {
     "data": {
      "text/plain": [
       "0.09797685153159634"
      ]
     },
     "execution_count": 27,
     "metadata": {},
     "output_type": "execute_result"
    }
   ],
   "source": [
    "# A copula value, given u and v\n",
    "clayton.CopulaFunction(.1,.5)"
   ]
  },
  {
   "cell_type": "markdown",
   "metadata": {},
   "source": [
    "#### Kendall's  $\\tau$  rank correlation coefficient, parametric vs copula"
   ]
  },
  {
   "cell_type": "code",
   "execution_count": 28,
   "metadata": {},
   "outputs": [
    {
     "name": "stdout",
     "output_type": "stream",
     "text": [
      "0.4772092092092092\n",
      "0.4772092092092092\n"
     ]
    }
   ],
   "source": [
    "print (KendallCorrelationNonParametric(ReturnsData.X, ReturnsData.Y))\n",
    "print (KendallCorrelationNonParametric(Returns.X, Returns.Y))"
   ]
  },
  {
   "cell_type": "markdown",
   "metadata": {},
   "source": [
    "As stated above, the copula Kendall's parameters $\\tau$ can also be calculated using the generator of the copula.\n",
    "\n",
    "We can use python quad to solve the integral. See the implementation in each class. "
   ]
  },
  {
   "cell_type": "code",
   "execution_count": 29,
   "metadata": {},
   "outputs": [
    {
     "name": "stdout",
     "output_type": "stream",
     "text": [
      "0.4772092092092092\n",
      "0.47720920920487386\n",
      "0.4772092092092115\n"
     ]
    }
   ],
   "source": [
    "print(gumbel.Integral_tau())\n",
    "print(clayton.Integral_tau())\n",
    "print(frank.Integral_tau())"
   ]
  },
  {
   "cell_type": "markdown",
   "metadata": {},
   "source": [
    "Alternatively, we can first analytically solve the integral and calcuate with a simple function $\\tau$. Unfortunately, this route is completely true for the Clayton and Gumbel copula. For the Frank copula, we still need to rely on Python quad as a debye function needs to be numerically evaluated to calculate Frank's $\\tau$ "
   ]
  },
  {
   "cell_type": "code",
   "execution_count": 30,
   "metadata": {},
   "outputs": [
    {
     "name": "stdout",
     "output_type": "stream",
     "text": [
      "0.4772092092092092\n",
      "0.4772092092092092\n",
      "0.4772092092092092\n"
     ]
    }
   ],
   "source": [
    "print(gumbel.f_tau(gumbel.theta))\n",
    "print(clayton.f_tau(clayton.theta))\n",
    "print(frank.f_tau(frank.theta))"
   ]
  },
  {
   "cell_type": "markdown",
   "metadata": {},
   "source": [
    "#### Calculate the Kendall distribution function for Clayton, Gumbel and Frank copula "
   ]
  },
  {
   "cell_type": "code",
   "execution_count": 31,
   "metadata": {},
   "outputs": [],
   "source": [
    "ClaytonArray = []\n",
    "for i in range(21):\n",
    "    t = Frequency['t'].loc[i]\n",
    "    ClaytonArray.append(clayton.KendallDistribution(t))\n",
    "del(t)"
   ]
  },
  {
   "cell_type": "code",
   "execution_count": 32,
   "metadata": {},
   "outputs": [],
   "source": [
    "GumbelArray = []\n",
    "for i in range(21):\n",
    "    t = Frequency['t'].loc[i]\n",
    "    GumbelArray.append(gumbel.KendallDistribution(t))\n",
    "del(t)"
   ]
  },
  {
   "cell_type": "code",
   "execution_count": 33,
   "metadata": {},
   "outputs": [],
   "source": [
    "FrankArray = []\n",
    "for i in range(21):\n",
    "    t = Frequency['t'].loc[i]\n",
    "    FrankArray.append(frank.KendallDistribution(t))\n",
    "del(t)"
   ]
  },
  {
   "cell_type": "code",
   "execution_count": 34,
   "metadata": {},
   "outputs": [],
   "source": [
    "Frequency['K_Clayton'] = ClaytonArray\n",
    "Frequency['K_Gumbel']  = GumbelArray\n",
    "Frequency['K_Frank']   = FrankArray\n",
    "del(ClaytonArray)\n",
    "del(GumbelArray)\n",
    "del(FrankArray)"
   ]
  },
  {
   "cell_type": "code",
   "execution_count": 35,
   "metadata": {},
   "outputs": [
    {
     "data": {
      "text/html": [
       "<div>\n",
       "<style scoped>\n",
       "    .dataframe tbody tr th:only-of-type {\n",
       "        vertical-align: middle;\n",
       "    }\n",
       "\n",
       "    .dataframe tbody tr th {\n",
       "        vertical-align: top;\n",
       "    }\n",
       "\n",
       "    .dataframe thead th {\n",
       "        text-align: right;\n",
       "    }\n",
       "</style>\n",
       "<table border=\"1\" class=\"dataframe\">\n",
       "  <thead>\n",
       "    <tr style=\"text-align: right;\">\n",
       "      <th></th>\n",
       "      <th>t</th>\n",
       "      <th>KCumulative</th>\n",
       "      <th>KDensity</th>\n",
       "      <th>KSample</th>\n",
       "      <th>K_Clayton</th>\n",
       "      <th>K_Gumbel</th>\n",
       "      <th>K_Frank</th>\n",
       "    </tr>\n",
       "  </thead>\n",
       "  <tbody>\n",
       "    <tr>\n",
       "      <th>0</th>\n",
       "      <td>0.00001</td>\n",
       "      <td>2</td>\n",
       "      <td>2.0</td>\n",
       "      <td>0.002</td>\n",
       "      <td>0.000015</td>\n",
       "      <td>0.000070</td>\n",
       "      <td>0.000108</td>\n",
       "    </tr>\n",
       "    <tr>\n",
       "      <th>1</th>\n",
       "      <td>0.05001</td>\n",
       "      <td>123</td>\n",
       "      <td>121.0</td>\n",
       "      <td>0.123</td>\n",
       "      <td>0.077288</td>\n",
       "      <td>0.128327</td>\n",
       "      <td>0.132926</td>\n",
       "    </tr>\n",
       "    <tr>\n",
       "      <th>2</th>\n",
       "      <td>0.10001</td>\n",
       "      <td>216</td>\n",
       "      <td>93.0</td>\n",
       "      <td>0.216</td>\n",
       "      <td>0.153973</td>\n",
       "      <td>0.220394</td>\n",
       "      <td>0.216052</td>\n",
       "    </tr>\n",
       "    <tr>\n",
       "      <th>3</th>\n",
       "      <td>0.15001</td>\n",
       "      <td>293</td>\n",
       "      <td>77.0</td>\n",
       "      <td>0.293</td>\n",
       "      <td>0.229605</td>\n",
       "      <td>0.298784</td>\n",
       "      <td>0.285945</td>\n",
       "    </tr>\n",
       "    <tr>\n",
       "      <th>4</th>\n",
       "      <td>0.20001</td>\n",
       "      <td>358</td>\n",
       "      <td>65.0</td>\n",
       "      <td>0.358</td>\n",
       "      <td>0.303765</td>\n",
       "      <td>0.368293</td>\n",
       "      <td>0.348947</td>\n",
       "    </tr>\n",
       "    <tr>\n",
       "      <th>5</th>\n",
       "      <td>0.25001</td>\n",
       "      <td>418</td>\n",
       "      <td>60.0</td>\n",
       "      <td>0.418</td>\n",
       "      <td>0.376055</td>\n",
       "      <td>0.431198</td>\n",
       "      <td>0.407683</td>\n",
       "    </tr>\n",
       "    <tr>\n",
       "      <th>6</th>\n",
       "      <td>0.30001</td>\n",
       "      <td>475</td>\n",
       "      <td>57.0</td>\n",
       "      <td>0.475</td>\n",
       "      <td>0.446097</td>\n",
       "      <td>0.488839</td>\n",
       "      <td>0.463502</td>\n",
       "    </tr>\n",
       "    <tr>\n",
       "      <th>7</th>\n",
       "      <td>0.35001</td>\n",
       "      <td>531</td>\n",
       "      <td>56.0</td>\n",
       "      <td>0.531</td>\n",
       "      <td>0.513526</td>\n",
       "      <td>0.542103</td>\n",
       "      <td>0.517165</td>\n",
       "    </tr>\n",
       "    <tr>\n",
       "      <th>8</th>\n",
       "      <td>0.40001</td>\n",
       "      <td>586</td>\n",
       "      <td>55.0</td>\n",
       "      <td>0.586</td>\n",
       "      <td>0.577986</td>\n",
       "      <td>0.591621</td>\n",
       "      <td>0.569108</td>\n",
       "    </tr>\n",
       "    <tr>\n",
       "      <th>9</th>\n",
       "      <td>0.45001</td>\n",
       "      <td>635</td>\n",
       "      <td>49.0</td>\n",
       "      <td>0.635</td>\n",
       "      <td>0.639131</td>\n",
       "      <td>0.637863</td>\n",
       "      <td>0.619562</td>\n",
       "    </tr>\n",
       "    <tr>\n",
       "      <th>10</th>\n",
       "      <td>0.50001</td>\n",
       "      <td>681</td>\n",
       "      <td>46.0</td>\n",
       "      <td>0.681</td>\n",
       "      <td>0.696624</td>\n",
       "      <td>0.681194</td>\n",
       "      <td>0.668611</td>\n",
       "    </tr>\n",
       "    <tr>\n",
       "      <th>11</th>\n",
       "      <td>0.55001</td>\n",
       "      <td>737</td>\n",
       "      <td>56.0</td>\n",
       "      <td>0.737</td>\n",
       "      <td>0.750131</td>\n",
       "      <td>0.721907</td>\n",
       "      <td>0.716213</td>\n",
       "    </tr>\n",
       "    <tr>\n",
       "      <th>12</th>\n",
       "      <td>0.60001</td>\n",
       "      <td>767</td>\n",
       "      <td>30.0</td>\n",
       "      <td>0.767</td>\n",
       "      <td>0.799326</td>\n",
       "      <td>0.760240</td>\n",
       "      <td>0.762213</td>\n",
       "    </tr>\n",
       "    <tr>\n",
       "      <th>13</th>\n",
       "      <td>0.65001</td>\n",
       "      <td>807</td>\n",
       "      <td>40.0</td>\n",
       "      <td>0.807</td>\n",
       "      <td>0.843888</td>\n",
       "      <td>0.796393</td>\n",
       "      <td>0.806332</td>\n",
       "    </tr>\n",
       "    <tr>\n",
       "      <th>14</th>\n",
       "      <td>0.70001</td>\n",
       "      <td>846</td>\n",
       "      <td>39.0</td>\n",
       "      <td>0.846</td>\n",
       "      <td>0.883501</td>\n",
       "      <td>0.830533</td>\n",
       "      <td>0.848156</td>\n",
       "    </tr>\n",
       "    <tr>\n",
       "      <th>15</th>\n",
       "      <td>0.75001</td>\n",
       "      <td>875</td>\n",
       "      <td>29.0</td>\n",
       "      <td>0.875</td>\n",
       "      <td>0.917851</td>\n",
       "      <td>0.862804</td>\n",
       "      <td>0.887100</td>\n",
       "    </tr>\n",
       "    <tr>\n",
       "      <th>16</th>\n",
       "      <td>0.80001</td>\n",
       "      <td>897</td>\n",
       "      <td>22.0</td>\n",
       "      <td>0.897</td>\n",
       "      <td>0.946632</td>\n",
       "      <td>0.893332</td>\n",
       "      <td>0.922375</td>\n",
       "    </tr>\n",
       "    <tr>\n",
       "      <th>17</th>\n",
       "      <td>0.85001</td>\n",
       "      <td>921</td>\n",
       "      <td>24.0</td>\n",
       "      <td>0.921</td>\n",
       "      <td>0.969537</td>\n",
       "      <td>0.922225</td>\n",
       "      <td>0.952927</td>\n",
       "    </tr>\n",
       "    <tr>\n",
       "      <th>18</th>\n",
       "      <td>0.90001</td>\n",
       "      <td>953</td>\n",
       "      <td>32.0</td>\n",
       "      <td>0.953</td>\n",
       "      <td>0.986265</td>\n",
       "      <td>0.949579</td>\n",
       "      <td>0.977364</td>\n",
       "    </tr>\n",
       "    <tr>\n",
       "      <th>19</th>\n",
       "      <td>0.95001</td>\n",
       "      <td>977</td>\n",
       "      <td>24.0</td>\n",
       "      <td>0.977</td>\n",
       "      <td>0.996518</td>\n",
       "      <td>0.975480</td>\n",
       "      <td>0.993855</td>\n",
       "    </tr>\n",
       "    <tr>\n",
       "      <th>20</th>\n",
       "      <td>1.00000</td>\n",
       "      <td>1000</td>\n",
       "      <td>23.0</td>\n",
       "      <td>1.000</td>\n",
       "      <td>1.000000</td>\n",
       "      <td>1.000000</td>\n",
       "      <td>1.000000</td>\n",
       "    </tr>\n",
       "  </tbody>\n",
       "</table>\n",
       "</div>"
      ],
      "text/plain": [
       "          t  KCumulative  KDensity  KSample  K_Clayton  K_Gumbel   K_Frank\n",
       "0   0.00001            2       2.0    0.002   0.000015  0.000070  0.000108\n",
       "1   0.05001          123     121.0    0.123   0.077288  0.128327  0.132926\n",
       "2   0.10001          216      93.0    0.216   0.153973  0.220394  0.216052\n",
       "3   0.15001          293      77.0    0.293   0.229605  0.298784  0.285945\n",
       "4   0.20001          358      65.0    0.358   0.303765  0.368293  0.348947\n",
       "5   0.25001          418      60.0    0.418   0.376055  0.431198  0.407683\n",
       "6   0.30001          475      57.0    0.475   0.446097  0.488839  0.463502\n",
       "7   0.35001          531      56.0    0.531   0.513526  0.542103  0.517165\n",
       "8   0.40001          586      55.0    0.586   0.577986  0.591621  0.569108\n",
       "9   0.45001          635      49.0    0.635   0.639131  0.637863  0.619562\n",
       "10  0.50001          681      46.0    0.681   0.696624  0.681194  0.668611\n",
       "11  0.55001          737      56.0    0.737   0.750131  0.721907  0.716213\n",
       "12  0.60001          767      30.0    0.767   0.799326  0.760240  0.762213\n",
       "13  0.65001          807      40.0    0.807   0.843888  0.796393  0.806332\n",
       "14  0.70001          846      39.0    0.846   0.883501  0.830533  0.848156\n",
       "15  0.75001          875      29.0    0.875   0.917851  0.862804  0.887100\n",
       "16  0.80001          897      22.0    0.897   0.946632  0.893332  0.922375\n",
       "17  0.85001          921      24.0    0.921   0.969537  0.922225  0.952927\n",
       "18  0.90001          953      32.0    0.953   0.986265  0.949579  0.977364\n",
       "19  0.95001          977      24.0    0.977   0.996518  0.975480  0.993855\n",
       "20  1.00000         1000      23.0    1.000   1.000000  1.000000  1.000000"
      ]
     },
     "execution_count": 35,
     "metadata": {},
     "output_type": "execute_result"
    }
   ],
   "source": [
    "Frequency"
   ]
  },
  {
   "cell_type": "markdown",
   "metadata": {},
   "source": [
    "Let's create the sum of the square difference between each copula's Kendall and the sample K,endall and use it to identify the \"best\" copula. "
   ]
  },
  {
   "cell_type": "code",
   "execution_count": 36,
   "metadata": {},
   "outputs": [],
   "source": [
    "Frequency['Clayton'] = (Frequency['K_Clayton'] - Frequency['KSample'])**2\n",
    "Frequency['Gumbel']  = (Frequency['K_Gumbel']  - Frequency['KSample'])**2 \n",
    "Frequency['Frank']   = (Frequency['K_Frank']   - Frequency['KSample'])**2 "
   ]
  },
  {
   "cell_type": "code",
   "execution_count": 37,
   "metadata": {},
   "outputs": [
    {
     "name": "stdout",
     "output_type": "stream",
     "text": [
      "0.0015225412919063497\n",
      "0.028254166698013596\n",
      "0.004488501668380486\n"
     ]
    }
   ],
   "source": [
    "print(sum(Frequency.Gumbel))\n",
    "print(sum(Frequency.Clayton))\n",
    "print(sum(Frequency.Frank))"
   ]
  },
  {
   "cell_type": "markdown",
   "metadata": {},
   "source": [
    "The Gumbel Copula shows the lowest sum of the squared differences and so it is our best one!"
   ]
  },
  {
   "cell_type": "code",
   "execution_count": 38,
   "metadata": {},
   "outputs": [
    {
     "data": {
      "text/html": [
       "<div>\n",
       "<style scoped>\n",
       "    .dataframe tbody tr th:only-of-type {\n",
       "        vertical-align: middle;\n",
       "    }\n",
       "\n",
       "    .dataframe tbody tr th {\n",
       "        vertical-align: top;\n",
       "    }\n",
       "\n",
       "    .dataframe thead th {\n",
       "        text-align: right;\n",
       "    }\n",
       "</style>\n",
       "<table border=\"1\" class=\"dataframe\">\n",
       "  <thead>\n",
       "    <tr style=\"text-align: right;\">\n",
       "      <th></th>\n",
       "      <th>t</th>\n",
       "      <th>KCumulative</th>\n",
       "      <th>KDensity</th>\n",
       "      <th>KSample</th>\n",
       "      <th>K_Clayton</th>\n",
       "      <th>K_Gumbel</th>\n",
       "      <th>K_Frank</th>\n",
       "      <th>Clayton</th>\n",
       "      <th>Gumbel</th>\n",
       "      <th>Frank</th>\n",
       "    </tr>\n",
       "  </thead>\n",
       "  <tbody>\n",
       "    <tr>\n",
       "      <th>0</th>\n",
       "      <td>0.00001</td>\n",
       "      <td>2</td>\n",
       "      <td>2.0</td>\n",
       "      <td>0.002</td>\n",
       "      <td>0.000015</td>\n",
       "      <td>0.000070</td>\n",
       "      <td>0.000108</td>\n",
       "      <td>0.000004</td>\n",
       "      <td>3.724172e-06</td>\n",
       "      <td>3.578386e-06</td>\n",
       "    </tr>\n",
       "    <tr>\n",
       "      <th>1</th>\n",
       "      <td>0.05001</td>\n",
       "      <td>123</td>\n",
       "      <td>121.0</td>\n",
       "      <td>0.123</td>\n",
       "      <td>0.077288</td>\n",
       "      <td>0.128327</td>\n",
       "      <td>0.132926</td>\n",
       "      <td>0.002090</td>\n",
       "      <td>2.838221e-05</td>\n",
       "      <td>9.853523e-05</td>\n",
       "    </tr>\n",
       "    <tr>\n",
       "      <th>2</th>\n",
       "      <td>0.10001</td>\n",
       "      <td>216</td>\n",
       "      <td>93.0</td>\n",
       "      <td>0.216</td>\n",
       "      <td>0.153973</td>\n",
       "      <td>0.220394</td>\n",
       "      <td>0.216052</td>\n",
       "      <td>0.003847</td>\n",
       "      <td>1.930581e-05</td>\n",
       "      <td>2.655260e-09</td>\n",
       "    </tr>\n",
       "    <tr>\n",
       "      <th>3</th>\n",
       "      <td>0.15001</td>\n",
       "      <td>293</td>\n",
       "      <td>77.0</td>\n",
       "      <td>0.293</td>\n",
       "      <td>0.229605</td>\n",
       "      <td>0.298784</td>\n",
       "      <td>0.285945</td>\n",
       "      <td>0.004019</td>\n",
       "      <td>3.345718e-05</td>\n",
       "      <td>4.977382e-05</td>\n",
       "    </tr>\n",
       "    <tr>\n",
       "      <th>4</th>\n",
       "      <td>0.20001</td>\n",
       "      <td>358</td>\n",
       "      <td>65.0</td>\n",
       "      <td>0.358</td>\n",
       "      <td>0.303765</td>\n",
       "      <td>0.368293</td>\n",
       "      <td>0.348947</td>\n",
       "      <td>0.002941</td>\n",
       "      <td>1.059469e-04</td>\n",
       "      <td>8.196143e-05</td>\n",
       "    </tr>\n",
       "    <tr>\n",
       "      <th>5</th>\n",
       "      <td>0.25001</td>\n",
       "      <td>418</td>\n",
       "      <td>60.0</td>\n",
       "      <td>0.418</td>\n",
       "      <td>0.376055</td>\n",
       "      <td>0.431198</td>\n",
       "      <td>0.407683</td>\n",
       "      <td>0.001759</td>\n",
       "      <td>1.741740e-04</td>\n",
       "      <td>1.064467e-04</td>\n",
       "    </tr>\n",
       "    <tr>\n",
       "      <th>6</th>\n",
       "      <td>0.30001</td>\n",
       "      <td>475</td>\n",
       "      <td>57.0</td>\n",
       "      <td>0.475</td>\n",
       "      <td>0.446097</td>\n",
       "      <td>0.488839</td>\n",
       "      <td>0.463502</td>\n",
       "      <td>0.000835</td>\n",
       "      <td>1.915133e-04</td>\n",
       "      <td>1.322091e-04</td>\n",
       "    </tr>\n",
       "    <tr>\n",
       "      <th>7</th>\n",
       "      <td>0.35001</td>\n",
       "      <td>531</td>\n",
       "      <td>56.0</td>\n",
       "      <td>0.531</td>\n",
       "      <td>0.513526</td>\n",
       "      <td>0.542103</td>\n",
       "      <td>0.517165</td>\n",
       "      <td>0.000305</td>\n",
       "      <td>1.232839e-04</td>\n",
       "      <td>1.914195e-04</td>\n",
       "    </tr>\n",
       "    <tr>\n",
       "      <th>8</th>\n",
       "      <td>0.40001</td>\n",
       "      <td>586</td>\n",
       "      <td>55.0</td>\n",
       "      <td>0.586</td>\n",
       "      <td>0.577986</td>\n",
       "      <td>0.591621</td>\n",
       "      <td>0.569108</td>\n",
       "      <td>0.000064</td>\n",
       "      <td>3.159457e-05</td>\n",
       "      <td>2.853528e-04</td>\n",
       "    </tr>\n",
       "    <tr>\n",
       "      <th>9</th>\n",
       "      <td>0.45001</td>\n",
       "      <td>635</td>\n",
       "      <td>49.0</td>\n",
       "      <td>0.635</td>\n",
       "      <td>0.639131</td>\n",
       "      <td>0.637863</td>\n",
       "      <td>0.619562</td>\n",
       "      <td>0.000017</td>\n",
       "      <td>8.194239e-06</td>\n",
       "      <td>2.383271e-04</td>\n",
       "    </tr>\n",
       "    <tr>\n",
       "      <th>10</th>\n",
       "      <td>0.50001</td>\n",
       "      <td>681</td>\n",
       "      <td>46.0</td>\n",
       "      <td>0.681</td>\n",
       "      <td>0.696624</td>\n",
       "      <td>0.681194</td>\n",
       "      <td>0.668611</td>\n",
       "      <td>0.000244</td>\n",
       "      <td>3.758832e-08</td>\n",
       "      <td>1.534935e-04</td>\n",
       "    </tr>\n",
       "    <tr>\n",
       "      <th>11</th>\n",
       "      <td>0.55001</td>\n",
       "      <td>737</td>\n",
       "      <td>56.0</td>\n",
       "      <td>0.737</td>\n",
       "      <td>0.750131</td>\n",
       "      <td>0.721907</td>\n",
       "      <td>0.716213</td>\n",
       "      <td>0.000172</td>\n",
       "      <td>2.278010e-04</td>\n",
       "      <td>4.320999e-04</td>\n",
       "    </tr>\n",
       "    <tr>\n",
       "      <th>12</th>\n",
       "      <td>0.60001</td>\n",
       "      <td>767</td>\n",
       "      <td>30.0</td>\n",
       "      <td>0.767</td>\n",
       "      <td>0.799326</td>\n",
       "      <td>0.760240</td>\n",
       "      <td>0.762213</td>\n",
       "      <td>0.001045</td>\n",
       "      <td>4.569217e-05</td>\n",
       "      <td>2.291814e-05</td>\n",
       "    </tr>\n",
       "    <tr>\n",
       "      <th>13</th>\n",
       "      <td>0.65001</td>\n",
       "      <td>807</td>\n",
       "      <td>40.0</td>\n",
       "      <td>0.807</td>\n",
       "      <td>0.843888</td>\n",
       "      <td>0.796393</td>\n",
       "      <td>0.806332</td>\n",
       "      <td>0.001361</td>\n",
       "      <td>1.125064e-04</td>\n",
       "      <td>4.458798e-07</td>\n",
       "    </tr>\n",
       "    <tr>\n",
       "      <th>14</th>\n",
       "      <td>0.70001</td>\n",
       "      <td>846</td>\n",
       "      <td>39.0</td>\n",
       "      <td>0.846</td>\n",
       "      <td>0.883501</td>\n",
       "      <td>0.830533</td>\n",
       "      <td>0.848156</td>\n",
       "      <td>0.001406</td>\n",
       "      <td>2.392250e-04</td>\n",
       "      <td>4.646253e-06</td>\n",
       "    </tr>\n",
       "    <tr>\n",
       "      <th>15</th>\n",
       "      <td>0.75001</td>\n",
       "      <td>875</td>\n",
       "      <td>29.0</td>\n",
       "      <td>0.875</td>\n",
       "      <td>0.917851</td>\n",
       "      <td>0.862804</td>\n",
       "      <td>0.887100</td>\n",
       "      <td>0.001836</td>\n",
       "      <td>1.487319e-04</td>\n",
       "      <td>1.464040e-04</td>\n",
       "    </tr>\n",
       "    <tr>\n",
       "      <th>16</th>\n",
       "      <td>0.80001</td>\n",
       "      <td>897</td>\n",
       "      <td>22.0</td>\n",
       "      <td>0.897</td>\n",
       "      <td>0.946632</td>\n",
       "      <td>0.893332</td>\n",
       "      <td>0.922375</td>\n",
       "      <td>0.002463</td>\n",
       "      <td>1.345530e-05</td>\n",
       "      <td>6.438798e-04</td>\n",
       "    </tr>\n",
       "    <tr>\n",
       "      <th>17</th>\n",
       "      <td>0.85001</td>\n",
       "      <td>921</td>\n",
       "      <td>24.0</td>\n",
       "      <td>0.921</td>\n",
       "      <td>0.969537</td>\n",
       "      <td>0.922225</td>\n",
       "      <td>0.952927</td>\n",
       "      <td>0.002356</td>\n",
       "      <td>1.499428e-06</td>\n",
       "      <td>1.019329e-03</td>\n",
       "    </tr>\n",
       "    <tr>\n",
       "      <th>18</th>\n",
       "      <td>0.90001</td>\n",
       "      <td>953</td>\n",
       "      <td>32.0</td>\n",
       "      <td>0.953</td>\n",
       "      <td>0.986265</td>\n",
       "      <td>0.949579</td>\n",
       "      <td>0.977364</td>\n",
       "      <td>0.001107</td>\n",
       "      <td>1.170543e-05</td>\n",
       "      <td>5.935949e-04</td>\n",
       "    </tr>\n",
       "    <tr>\n",
       "      <th>19</th>\n",
       "      <td>0.95001</td>\n",
       "      <td>977</td>\n",
       "      <td>24.0</td>\n",
       "      <td>0.977</td>\n",
       "      <td>0.996518</td>\n",
       "      <td>0.975480</td>\n",
       "      <td>0.993855</td>\n",
       "      <td>0.000381</td>\n",
       "      <td>2.310646e-06</td>\n",
       "      <td>2.840838e-04</td>\n",
       "    </tr>\n",
       "    <tr>\n",
       "      <th>20</th>\n",
       "      <td>1.00000</td>\n",
       "      <td>1000</td>\n",
       "      <td>23.0</td>\n",
       "      <td>1.000</td>\n",
       "      <td>1.000000</td>\n",
       "      <td>1.000000</td>\n",
       "      <td>1.000000</td>\n",
       "      <td>0.000000</td>\n",
       "      <td>0.000000e+00</td>\n",
       "      <td>0.000000e+00</td>\n",
       "    </tr>\n",
       "  </tbody>\n",
       "</table>\n",
       "</div>"
      ],
      "text/plain": [
       "          t  KCumulative  KDensity  KSample  K_Clayton  K_Gumbel   K_Frank  \\\n",
       "0   0.00001            2       2.0    0.002   0.000015  0.000070  0.000108   \n",
       "1   0.05001          123     121.0    0.123   0.077288  0.128327  0.132926   \n",
       "2   0.10001          216      93.0    0.216   0.153973  0.220394  0.216052   \n",
       "3   0.15001          293      77.0    0.293   0.229605  0.298784  0.285945   \n",
       "4   0.20001          358      65.0    0.358   0.303765  0.368293  0.348947   \n",
       "5   0.25001          418      60.0    0.418   0.376055  0.431198  0.407683   \n",
       "6   0.30001          475      57.0    0.475   0.446097  0.488839  0.463502   \n",
       "7   0.35001          531      56.0    0.531   0.513526  0.542103  0.517165   \n",
       "8   0.40001          586      55.0    0.586   0.577986  0.591621  0.569108   \n",
       "9   0.45001          635      49.0    0.635   0.639131  0.637863  0.619562   \n",
       "10  0.50001          681      46.0    0.681   0.696624  0.681194  0.668611   \n",
       "11  0.55001          737      56.0    0.737   0.750131  0.721907  0.716213   \n",
       "12  0.60001          767      30.0    0.767   0.799326  0.760240  0.762213   \n",
       "13  0.65001          807      40.0    0.807   0.843888  0.796393  0.806332   \n",
       "14  0.70001          846      39.0    0.846   0.883501  0.830533  0.848156   \n",
       "15  0.75001          875      29.0    0.875   0.917851  0.862804  0.887100   \n",
       "16  0.80001          897      22.0    0.897   0.946632  0.893332  0.922375   \n",
       "17  0.85001          921      24.0    0.921   0.969537  0.922225  0.952927   \n",
       "18  0.90001          953      32.0    0.953   0.986265  0.949579  0.977364   \n",
       "19  0.95001          977      24.0    0.977   0.996518  0.975480  0.993855   \n",
       "20  1.00000         1000      23.0    1.000   1.000000  1.000000  1.000000   \n",
       "\n",
       "     Clayton        Gumbel         Frank  \n",
       "0   0.000004  3.724172e-06  3.578386e-06  \n",
       "1   0.002090  2.838221e-05  9.853523e-05  \n",
       "2   0.003847  1.930581e-05  2.655260e-09  \n",
       "3   0.004019  3.345718e-05  4.977382e-05  \n",
       "4   0.002941  1.059469e-04  8.196143e-05  \n",
       "5   0.001759  1.741740e-04  1.064467e-04  \n",
       "6   0.000835  1.915133e-04  1.322091e-04  \n",
       "7   0.000305  1.232839e-04  1.914195e-04  \n",
       "8   0.000064  3.159457e-05  2.853528e-04  \n",
       "9   0.000017  8.194239e-06  2.383271e-04  \n",
       "10  0.000244  3.758832e-08  1.534935e-04  \n",
       "11  0.000172  2.278010e-04  4.320999e-04  \n",
       "12  0.001045  4.569217e-05  2.291814e-05  \n",
       "13  0.001361  1.125064e-04  4.458798e-07  \n",
       "14  0.001406  2.392250e-04  4.646253e-06  \n",
       "15  0.001836  1.487319e-04  1.464040e-04  \n",
       "16  0.002463  1.345530e-05  6.438798e-04  \n",
       "17  0.002356  1.499428e-06  1.019329e-03  \n",
       "18  0.001107  1.170543e-05  5.935949e-04  \n",
       "19  0.000381  2.310646e-06  2.840838e-04  \n",
       "20  0.000000  0.000000e+00  0.000000e+00  "
      ]
     },
     "execution_count": 38,
     "metadata": {},
     "output_type": "execute_result"
    }
   ],
   "source": [
    "# Print our DataFrame\n",
    "Frequency"
   ]
  },
  {
   "cell_type": "markdown",
   "metadata": {},
   "source": [
    "### Simulating Archimedean Copulas"
   ]
  },
  {
   "cell_type": "markdown",
   "metadata": {},
   "source": [
    "We are now going to introduce the simulation algo we used to generate the copula dependent equity returns data used in this notebook!"
   ]
  },
  {
   "cell_type": "markdown",
   "metadata": {},
   "source": [
    "1. Simulate two independent ~$U[0,1]$ random variates, $s$ and $q$\n",
    "2. Set $t = KendallInverse(q)$, where the $KendallInverse(q)$ is implemented the class below \n",
    "3. Set $u =\\varphi^{-1}(s\\varphi(t))$ and\n",
    "4. Set $v =\\varphi^{-1}((1-s)\\varphi(t))$\n",
    "\n",
    "$u$ and $v$ are now copula dependent\n",
    "\n",
    "To generate copula dependent equity returns, we assume that the equity returns are normal distributed ~$N(0,1)$\n",
    "\n",
    "Set $x = \\Phi^{-1}(u)$ and $y = \\Phi^{-1}(v)$\n",
    "\n",
    "The marginals are now normal distributed ~$N(0,1)$ with an Archimedean copula dependency."
   ]
  },
  {
   "cell_type": "markdown",
   "metadata": {},
   "source": [
    "#### Two simulation classes to implement the simulation algo"
   ]
  },
  {
   "cell_type": "code",
   "execution_count": 39,
   "metadata": {},
   "outputs": [],
   "source": [
    "# Copula Class\n",
    "class ArchimedeanSimulation(object):\n",
    "    def __init__(self, tau, CopulaType):\n",
    "        # CopulaType can be either:\n",
    "        # C for Clayton,\n",
    "        # G for Gumbel\n",
    "        \n",
    "        self.copula = \"\"\n",
    "        if(CopulaType == \"C\"):\n",
    "            self.copula = Clayton(tau_data) # an instance of class Clayton \n",
    "        else:\n",
    "            self.copula = Gumbel(tau_data)  # an instance of class Gumbel\n",
    "        \n",
    "    def KendallInverse(self, q):       \n",
    "        def f(t):\n",
    "            return self.copula.KendallDistribution(t) - q\n",
    "        \n",
    "        return newton(f, 0.00001, fprime=self.copula.derivativeKendallDistribution)\n",
    "    \n",
    "    def Simulations(self, Number):\n",
    "        npr.seed(30)\n",
    "        sq      = npr.rand(Number, 2)\n",
    "        self.uv = np.zeros([Number,2])\n",
    "        \n",
    "        for i in range(Number):                    \n",
    "            q = sq[i,1]\n",
    "            s = sq[i,0] \n",
    "            t = self.KendallInverse(q)\n",
    "            self.uv[i,0] = self.copula.GeneratorInverse(s     * self.copula.Generator(t))\n",
    "            self.uv[i,1] = self.copula.GeneratorInverse((1-s) * self.copula.Generator(t))\n",
    "        \n",
    "        self.M = norm.ppf(self.uv)\n",
    "        \n",
    "class ArchimedeanSimulationFrank(ArchimedeanSimulation):\n",
    "    def __init__(self, tau):        \n",
    "        # We found in the KendallInverse, the newton root finding not working with \n",
    "        # very small values of t, when the 1st derivative is used.\n",
    "        # as a result, for the Frank Simulation, we are using a slower newton root\n",
    "        \n",
    "        self.copula = Frank(tau_data)  # an instance of class Frank\n",
    "        \n",
    "    def KendallInverse(self, q):       \n",
    "        def f(t):\n",
    "            return self.copula.KendallDistribution(t) - q\n",
    "        \n",
    "        return newton(f, 0.0000001)"
   ]
  },
  {
   "cell_type": "code",
   "execution_count": 40,
   "metadata": {},
   "outputs": [],
   "source": [
    "Arch_C = ArchimedeanSimulation(tau_data,\"C\")\n",
    "Arch_G = ArchimedeanSimulation(tau_data,\"G\")\n",
    "Arch_F = ArchimedeanSimulationFrank(tau_data)"
   ]
  },
  {
   "cell_type": "markdown",
   "metadata": {},
   "source": [
    "The Kendall Inverse allows us to calculate that $t$ that when it is used in the Kendall function recovers the same $q$ in the simulation algo.\n",
    "\n",
    "There is no anaytical formulafor the Kendall Inverse, so in the classes $ArchimedeanSimulation$ and $ArchimedeanSimulationFrank$, we used two numerical root searches (with and without the use of the 1st derivative, respectively).\n",
    "\n",
    "Let's check that our implementation is correct, so that we can recover K_Clayton, K_Gumbel and K_Frank as reported in the frequency dataframe."
   ]
  },
  {
   "cell_type": "code",
   "execution_count": 41,
   "metadata": {},
   "outputs": [
    {
     "name": "stdout",
     "output_type": "stream",
     "text": [
      "[[0.   0.   0.  ]\n",
      " [0.05 0.05 0.05]\n",
      " [0.1  0.1  0.1 ]\n",
      " [0.15 0.15 0.15]\n",
      " [0.2  0.2  0.2 ]\n",
      " [0.25 0.25 0.25]\n",
      " [0.3  0.3  0.3 ]\n",
      " [0.35 0.35 0.35]\n",
      " [0.4  0.4  0.4 ]\n",
      " [0.45 0.45 0.45]\n",
      " [0.5  0.5  0.5 ]\n",
      " [0.55 0.55 0.55]\n",
      " [0.6  0.6  0.6 ]\n",
      " [0.65 0.65 0.65]\n",
      " [0.7  0.7  0.7 ]\n",
      " [0.75 0.75 0.75]\n",
      " [0.8  0.8  0.8 ]\n",
      " [0.85 0.85 0.85]\n",
      " [0.9  0.9  0.9 ]\n",
      " [0.95 0.95 0.95]\n",
      " [1.   1.   1.  ]]\n"
     ]
    }
   ],
   "source": [
    "t_K_Clayton = np.zeros([len(Frequency)])\n",
    "t_K_Gumbel  = np.zeros([len(Frequency)])\n",
    "t_K_Frank   = np.zeros([len(Frequency)])\n",
    "for i in range(0, len(Frequency)):\n",
    "    t_K_Clayton[i] = Arch_C.KendallInverse(Frequency.K_Clayton.loc[i])\n",
    "    t_K_Gumbel[i]  = Arch_G.KendallInverse(Frequency.K_Gumbel.loc[i])\n",
    "    t_K_Frank[i]   = Arch_F.KendallInverse(Frequency.K_Frank.loc[i])\n",
    "    \n",
    "arr = np.stack((t_K_Clayton, t_K_Gumbel, t_K_Frank), axis=1)\n",
    "arr = np.round(arr,4)\n",
    "print(arr)\n",
    "# the t's are correct!"
   ]
  },
  {
   "cell_type": "markdown",
   "metadata": {},
   "source": [
    "#### Running the simulation algo for the Gumbel copula "
   ]
  },
  {
   "cell_type": "markdown",
   "metadata": {},
   "source": [
    "The equity Returns data was created with the Gumbel Copula."
   ]
  },
  {
   "cell_type": "code",
   "execution_count": 42,
   "metadata": {},
   "outputs": [],
   "source": [
    "# Let's simulate bivariate numbers from the Gumbel copula \n",
    "Arch_G.Simulations(1000)\n",
    "Data_Arch_Returns     = pd.DataFrame(Arch_G.M)\n",
    "Data_Arch_Univariates = pd.DataFrame(Arch_G.uv)\n",
    "Data_Arch_Returns.columns =['X', 'Y']\n",
    "Data_Arch_Univariates.columns =['U', 'V']\n",
    "Data_Arch_Returns.to_csv('GumbelReturns.csv', index = False)\n",
    "Data_Arch_Univariates.to_csv('GumbelUnivariates.csv', index = False)"
   ]
  },
  {
   "cell_type": "code",
   "execution_count": 43,
   "metadata": {},
   "outputs": [],
   "source": [
    "# Let's save both returns and univariates in a csv file \n",
    "Returns2    = pd.read_csv ('GumbelReturns.csv',     index_col=False)\n",
    "Univariates = pd.read_csv ('GumbelUnivariates.csv', index_col=False)"
   ]
  },
  {
   "cell_type": "code",
   "execution_count": 44,
   "metadata": {},
   "outputs": [
    {
     "name": "stdout",
     "output_type": "stream",
     "text": [
      "0.676541571981809\n",
      "0.4749389389389389\n",
      "0.4772092092092092\n"
     ]
    }
   ],
   "source": [
    "# and notice the Kendall Coefficient. It is the same for both returns and univariate data,\n",
    "# linear correlation is not the same \n",
    "print (np.corrcoef(Returns2.X, Returns2.Y)[1,0])\n",
    "print (KendallCorrelationNonParametric(Returns2.X, Returns2.Y))\n",
    "print(tau_data)"
   ]
  },
  {
   "cell_type": "code",
   "execution_count": 45,
   "metadata": {},
   "outputs": [
    {
     "name": "stdout",
     "output_type": "stream",
     "text": [
      "0.656693704225539\n",
      "0.4749389389389389\n",
      "0.4772092092092092\n"
     ]
    }
   ],
   "source": [
    "# and notice the Kendall Coefficient. It is the same for both returns and univariate data,\n",
    "# linear correlation is not the same \n",
    "print (np.corrcoef(Univariates.U, Univariates.V)[1,0])\n",
    "print (KendallCorrelationNonParametric(Univariates.U, Univariates.V))\n",
    "print(tau_data)"
   ]
  },
  {
   "cell_type": "markdown",
   "metadata": {},
   "source": [
    "We have recreated the same data set we used!! "
   ]
  },
  {
   "cell_type": "code",
   "execution_count": 46,
   "metadata": {},
   "outputs": [],
   "source": [
    "del(Data_Arch_Returns)\n",
    "del(Data_Arch_Univariates)\n",
    "del(Returns2)\n",
    "del(Univariates)"
   ]
  },
  {
   "cell_type": "markdown",
   "metadata": {},
   "source": [
    "#### Running the simulation algo for the Clayton copula"
   ]
  },
  {
   "cell_type": "code",
   "execution_count": 47,
   "metadata": {},
   "outputs": [],
   "source": [
    "# Let's simulate bivariate numbers from the Gumbel copula \n",
    "Arch_C.Simulations(1000)\n",
    "Data_Arch_Returns     = pd.DataFrame(Arch_C.M)\n",
    "Data_Arch_Univariates = pd.DataFrame(Arch_C.uv)\n",
    "Data_Arch_Returns.columns =['X', 'Y']\n",
    "Data_Arch_Univariates.columns =['U', 'V']\n",
    "Data_Arch_Returns.to_csv('ClaytonReturns.csv', index = False)\n",
    "Data_Arch_Univariates.to_csv('ClaytonUnivariates.csv', index = False)"
   ]
  },
  {
   "cell_type": "code",
   "execution_count": 48,
   "metadata": {},
   "outputs": [],
   "source": [
    "# Let's save both returns and univariates in a csv file \n",
    "Returns2    = pd.read_csv ('ClaytonReturns.csv',     index_col=False)\n",
    "Univariates = pd.read_csv ('ClaytonUnivariates.csv', index_col=False)"
   ]
  },
  {
   "cell_type": "code",
   "execution_count": 49,
   "metadata": {},
   "outputs": [
    {
     "name": "stdout",
     "output_type": "stream",
     "text": [
      "0.6587005680356844\n",
      "0.4675275275275275\n",
      "0.4772092092092092\n"
     ]
    }
   ],
   "source": [
    "# and notice the Kendall Coefficient\n",
    "print (np.corrcoef(Returns2.X, Returns2.Y)[1,0])\n",
    "print (KendallCorrelationNonParametric(Returns2.X, Returns2.Y))\n",
    "print(tau_data)"
   ]
  },
  {
   "cell_type": "code",
   "execution_count": 50,
   "metadata": {},
   "outputs": [
    {
     "name": "stdout",
     "output_type": "stream",
     "text": [
      "0.6528344830881103\n",
      "0.4675275275275275\n",
      "0.4772092092092092\n"
     ]
    }
   ],
   "source": [
    "# and notice the Kendall Coefficient\n",
    "print (np.corrcoef(Univariates.U, Univariates.V)[1,0])\n",
    "print (KendallCorrelationNonParametric(Univariates.U, Univariates.V))\n",
    "print(tau_data)"
   ]
  },
  {
   "cell_type": "code",
   "execution_count": 51,
   "metadata": {},
   "outputs": [],
   "source": [
    "del(Data_Arch_Returns)\n",
    "del(Data_Arch_Univariates)\n",
    "del(Returns2)\n",
    "del(Univariates)"
   ]
  },
  {
   "cell_type": "markdown",
   "metadata": {},
   "source": [
    "#### Running the simulation algo for the Frank copula"
   ]
  },
  {
   "cell_type": "code",
   "execution_count": 52,
   "metadata": {},
   "outputs": [],
   "source": [
    "# Let's simulate bivariate numbers from the Gumbel copula \n",
    "Arch_F.Simulations(1000)\n",
    "Data_Arch_Returns     = pd.DataFrame(Arch_F.M)\n",
    "Data_Arch_Univariates = pd.DataFrame(Arch_F.uv)\n",
    "Data_Arch_Returns.columns =['X', 'Y']\n",
    "Data_Arch_Univariates.columns =['U', 'V']\n",
    "Data_Arch_Returns.to_csv('FrankReturns.csv', index = False)\n",
    "Data_Arch_Univariates.to_csv('FrankUnivariates.csv', index = False)"
   ]
  },
  {
   "cell_type": "code",
   "execution_count": 53,
   "metadata": {},
   "outputs": [],
   "source": [
    "# Let's save both returns and univariates in a csv file \n",
    "Returns2    = pd.read_csv ('FrankReturns.csv',     index_col=False)\n",
    "Univariates = pd.read_csv ('FrankUnivariates.csv', index_col=False)"
   ]
  },
  {
   "cell_type": "code",
   "execution_count": 54,
   "metadata": {},
   "outputs": [
    {
     "name": "stdout",
     "output_type": "stream",
     "text": [
      "0.6358841652586683\n",
      "0.472996996996997\n",
      "0.4772092092092092\n"
     ]
    }
   ],
   "source": [
    "# and notice the Kendall Coefficient\n",
    "print (np.corrcoef(Returns2.X, Returns2.Y)[1,0])\n",
    "print (KendallCorrelationNonParametric(Returns2.X, Returns2.Y))\n",
    "print(tau_data)"
   ]
  },
  {
   "cell_type": "code",
   "execution_count": 55,
   "metadata": {},
   "outputs": [
    {
     "name": "stdout",
     "output_type": "stream",
     "text": [
      "0.6681511780934487\n",
      "0.472996996996997\n",
      "0.4772092092092092\n"
     ]
    }
   ],
   "source": [
    "# and notice the Kendall Coefficient\n",
    "print (np.corrcoef(Univariates.U, Univariates.V)[1,0])\n",
    "print (KendallCorrelationNonParametric(Univariates.U, Univariates.V))\n",
    "print(tau_data)"
   ]
  },
  {
   "cell_type": "code",
   "execution_count": 56,
   "metadata": {},
   "outputs": [],
   "source": [
    "del(Data_Arch_Returns)\n",
    "del(Data_Arch_Univariates)\n",
    "del(Returns2)\n",
    "del(Univariates)"
   ]
  },
  {
   "cell_type": "markdown",
   "metadata": {},
   "source": [
    "finito!"
   ]
  }
 ],
 "metadata": {
  "kernelspec": {
   "display_name": "Python 3",
   "language": "python",
   "name": "python3"
  },
  "language_info": {
   "codemirror_mode": {
    "name": "ipython",
    "version": 3
   },
   "file_extension": ".py",
   "mimetype": "text/x-python",
   "name": "python",
   "nbconvert_exporter": "python",
   "pygments_lexer": "ipython3",
   "version": "3.6.4"
  }
 },
 "nbformat": 4,
 "nbformat_minor": 2
}
